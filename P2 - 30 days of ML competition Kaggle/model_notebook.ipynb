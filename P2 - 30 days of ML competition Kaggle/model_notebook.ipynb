{
 "cells": [
  {
   "cell_type": "code",
   "source": [
    "import pandas as pd\n",
    "import numpy as np"
   ],
   "execution_count": 1,
   "outputs": [],
   "metadata": {}
  },
  {
   "cell_type": "markdown",
   "source": [
    "Importing dataset"
   ],
   "attachments": {},
   "metadata": {}
  },
  {
   "cell_type": "code",
   "source": [
    "path='train.csv'\n",
    "df_train=pd.read_csv(path)"
   ],
   "execution_count": 3,
   "outputs": [],
   "metadata": {}
  },
  {
   "cell_type": "code",
   "source": [
    "df_train.head()"
   ],
   "execution_count": 4,
   "outputs": [
    {
     "data": {
      "text/plain": "   id cat0 cat1 cat2 cat3 cat4 cat5 cat6 cat7 cat8  ...     cont5     cont6  \\\n0   1    B    B    B    C    B    B    A    E    C  ...  0.400361  0.160266   \n1   2    B    B    A    A    B    D    A    F    A  ...  0.533087  0.558922   \n2   3    A    A    A    C    B    D    A    D    A  ...  0.650609  0.375348   \n3   4    B    B    A    C    B    D    A    E    C  ...  0.668980  0.239061   \n4   6    A    A    A    C    B    D    A    E    A  ...  0.686964  0.420667   \n\n      cont7     cont8     cont9    cont10    cont11    cont12    cont13  \\\n0  0.310921  0.389470  0.267559  0.237281  0.377873  0.322401  0.869850   \n1  0.516294  0.594928  0.341439  0.906013  0.921701  0.261975  0.465083   \n2  0.902567  0.555205  0.843531  0.748809  0.620126  0.541474  0.763846   \n3  0.732948  0.679618  0.574844  0.346010  0.714610  0.540150  0.280682   \n4  0.648182  0.684501  0.956692  1.000773  0.776742  0.625849  0.250823   \n\n     target  \n0  8.113634  \n1  8.481233  \n2  8.364351  \n3  8.049253  \n4  7.972260  \n\n[5 rows x 26 columns]",
      "text/html": "<div>\n<style scoped>\n    .dataframe tbody tr th:only-of-type {\n        vertical-align: middle;\n    }\n\n    .dataframe tbody tr th {\n        vertical-align: top;\n    }\n\n    .dataframe thead th {\n        text-align: right;\n    }\n</style>\n<table border=\"1\" class=\"dataframe\">\n  <thead>\n    <tr style=\"text-align: right;\">\n      <th></th>\n      <th>id</th>\n      <th>cat0</th>\n      <th>cat1</th>\n      <th>cat2</th>\n      <th>cat3</th>\n      <th>cat4</th>\n      <th>cat5</th>\n      <th>cat6</th>\n      <th>cat7</th>\n      <th>cat8</th>\n      <th>...</th>\n      <th>cont5</th>\n      <th>cont6</th>\n      <th>cont7</th>\n      <th>cont8</th>\n      <th>cont9</th>\n      <th>cont10</th>\n      <th>cont11</th>\n      <th>cont12</th>\n      <th>cont13</th>\n      <th>target</th>\n    </tr>\n  </thead>\n  <tbody>\n    <tr>\n      <th>0</th>\n      <td>1</td>\n      <td>B</td>\n      <td>B</td>\n      <td>B</td>\n      <td>C</td>\n      <td>B</td>\n      <td>B</td>\n      <td>A</td>\n      <td>E</td>\n      <td>C</td>\n      <td>...</td>\n      <td>0.400361</td>\n      <td>0.160266</td>\n      <td>0.310921</td>\n      <td>0.389470</td>\n      <td>0.267559</td>\n      <td>0.237281</td>\n      <td>0.377873</td>\n      <td>0.322401</td>\n      <td>0.869850</td>\n      <td>8.113634</td>\n    </tr>\n    <tr>\n      <th>1</th>\n      <td>2</td>\n      <td>B</td>\n      <td>B</td>\n      <td>A</td>\n      <td>A</td>\n      <td>B</td>\n      <td>D</td>\n      <td>A</td>\n      <td>F</td>\n      <td>A</td>\n      <td>...</td>\n      <td>0.533087</td>\n      <td>0.558922</td>\n      <td>0.516294</td>\n      <td>0.594928</td>\n      <td>0.341439</td>\n      <td>0.906013</td>\n      <td>0.921701</td>\n      <td>0.261975</td>\n      <td>0.465083</td>\n      <td>8.481233</td>\n    </tr>\n    <tr>\n      <th>2</th>\n      <td>3</td>\n      <td>A</td>\n      <td>A</td>\n      <td>A</td>\n      <td>C</td>\n      <td>B</td>\n      <td>D</td>\n      <td>A</td>\n      <td>D</td>\n      <td>A</td>\n      <td>...</td>\n      <td>0.650609</td>\n      <td>0.375348</td>\n      <td>0.902567</td>\n      <td>0.555205</td>\n      <td>0.843531</td>\n      <td>0.748809</td>\n      <td>0.620126</td>\n      <td>0.541474</td>\n      <td>0.763846</td>\n      <td>8.364351</td>\n    </tr>\n    <tr>\n      <th>3</th>\n      <td>4</td>\n      <td>B</td>\n      <td>B</td>\n      <td>A</td>\n      <td>C</td>\n      <td>B</td>\n      <td>D</td>\n      <td>A</td>\n      <td>E</td>\n      <td>C</td>\n      <td>...</td>\n      <td>0.668980</td>\n      <td>0.239061</td>\n      <td>0.732948</td>\n      <td>0.679618</td>\n      <td>0.574844</td>\n      <td>0.346010</td>\n      <td>0.714610</td>\n      <td>0.540150</td>\n      <td>0.280682</td>\n      <td>8.049253</td>\n    </tr>\n    <tr>\n      <th>4</th>\n      <td>6</td>\n      <td>A</td>\n      <td>A</td>\n      <td>A</td>\n      <td>C</td>\n      <td>B</td>\n      <td>D</td>\n      <td>A</td>\n      <td>E</td>\n      <td>A</td>\n      <td>...</td>\n      <td>0.686964</td>\n      <td>0.420667</td>\n      <td>0.648182</td>\n      <td>0.684501</td>\n      <td>0.956692</td>\n      <td>1.000773</td>\n      <td>0.776742</td>\n      <td>0.625849</td>\n      <td>0.250823</td>\n      <td>7.972260</td>\n    </tr>\n  </tbody>\n</table>\n<p>5 rows × 26 columns</p>\n</div>"
     },
     "execution_count": 4,
     "metadata": {},
     "output_type": "execute_result"
    }
   ],
   "metadata": {}
  },
  {
   "cell_type": "code",
   "source": [
    "df_train.shape"
   ],
   "execution_count": 5,
   "outputs": [
    {
     "data": {
      "text/plain": "(300000, 26)"
     },
     "execution_count": 5,
     "metadata": {},
     "output_type": "execute_result"
    }
   ],
   "metadata": {}
  },
  {
   "cell_type": "code",
   "source": [
    "df_train.describe(include='all')"
   ],
   "execution_count": 6,
   "outputs": [
    {
     "data": {
      "text/plain": "                   id    cat0    cat1    cat2    cat3    cat4    cat5    cat6  \\\ncount   300000.000000  300000  300000  300000  300000  300000  300000  300000   \nunique            NaN       2       2       2       4       4       4       8   \ntop               NaN       A       A       A       C       B       B       A   \nfreq              NaN  193130  154824  253886  263356  294737  149340  290511   \nmean    250018.576947     NaN     NaN     NaN     NaN     NaN     NaN     NaN   \nstd     144450.150010     NaN     NaN     NaN     NaN     NaN     NaN     NaN   \nmin          1.000000     NaN     NaN     NaN     NaN     NaN     NaN     NaN   \n25%     124772.500000     NaN     NaN     NaN     NaN     NaN     NaN     NaN   \n50%     250002.500000     NaN     NaN     NaN     NaN     NaN     NaN     NaN   \n75%     375226.500000     NaN     NaN     NaN     NaN     NaN     NaN     NaN   \nmax     499999.000000     NaN     NaN     NaN     NaN     NaN     NaN     NaN   \n\n          cat7    cat8  ...          cont5          cont6          cont7  \\\ncount   300000  300000  ...  300000.000000  300000.000000  300000.000000   \nunique       8       7  ...            NaN            NaN            NaN   \ntop          E       C  ...            NaN            NaN            NaN   \nfreq    276040  111103  ...            NaN            NaN            NaN   \nmean       NaN     NaN  ...       0.510526       0.467476       0.537119   \nstd        NaN     NaN  ...       0.228232       0.210331       0.218140   \nmin        NaN     NaN  ...       0.045915      -0.224689       0.203763   \n25%        NaN     NaN  ...       0.354141       0.342873       0.355825   \n50%        NaN     NaN  ...       0.488865       0.429383       0.504661   \n75%        NaN     NaN  ...       0.669625       0.573383       0.703441   \nmax        NaN     NaN  ...       1.067649       1.111552       1.032837   \n\n                cont8          cont9         cont10         cont11  \\\ncount   300000.000000  300000.000000  300000.000000  300000.000000   \nunique            NaN            NaN            NaN            NaN   \ntop               NaN            NaN            NaN            NaN   \nfreq              NaN            NaN            NaN            NaN   \nmean         0.498456       0.474872       0.474492       0.473216   \nstd          0.239920       0.218007       0.255949       0.222022   \nmin         -0.260275       0.117896       0.048732       0.052608   \n25%          0.332486       0.306874       0.276017       0.308151   \n50%          0.439151       0.434620       0.459975       0.433812   \n75%          0.606056       0.614333       0.691579       0.642057   \nmax          1.040229       0.982922       1.055960       1.071444   \n\n               cont12         cont13         target  \ncount   300000.000000  300000.000000  300000.000000  \nunique            NaN            NaN            NaN  \ntop               NaN            NaN            NaN  \nfreq              NaN            NaN            NaN  \nmean         0.494561       0.508273       8.241979  \nstd          0.247292       0.222950       0.746555  \nmin         -0.074208       0.151050       0.140329  \n25%          0.289074       0.300669       7.742071  \n50%          0.422887       0.472400       8.191373  \n75%          0.714502       0.758447       8.728634  \nmax          0.975035       0.905992      10.411992  \n\n[11 rows x 26 columns]",
      "text/html": "<div>\n<style scoped>\n    .dataframe tbody tr th:only-of-type {\n        vertical-align: middle;\n    }\n\n    .dataframe tbody tr th {\n        vertical-align: top;\n    }\n\n    .dataframe thead th {\n        text-align: right;\n    }\n</style>\n<table border=\"1\" class=\"dataframe\">\n  <thead>\n    <tr style=\"text-align: right;\">\n      <th></th>\n      <th>id</th>\n      <th>cat0</th>\n      <th>cat1</th>\n      <th>cat2</th>\n      <th>cat3</th>\n      <th>cat4</th>\n      <th>cat5</th>\n      <th>cat6</th>\n      <th>cat7</th>\n      <th>cat8</th>\n      <th>...</th>\n      <th>cont5</th>\n      <th>cont6</th>\n      <th>cont7</th>\n      <th>cont8</th>\n      <th>cont9</th>\n      <th>cont10</th>\n      <th>cont11</th>\n      <th>cont12</th>\n      <th>cont13</th>\n      <th>target</th>\n    </tr>\n  </thead>\n  <tbody>\n    <tr>\n      <th>count</th>\n      <td>300000.000000</td>\n      <td>300000</td>\n      <td>300000</td>\n      <td>300000</td>\n      <td>300000</td>\n      <td>300000</td>\n      <td>300000</td>\n      <td>300000</td>\n      <td>300000</td>\n      <td>300000</td>\n      <td>...</td>\n      <td>300000.000000</td>\n      <td>300000.000000</td>\n      <td>300000.000000</td>\n      <td>300000.000000</td>\n      <td>300000.000000</td>\n      <td>300000.000000</td>\n      <td>300000.000000</td>\n      <td>300000.000000</td>\n      <td>300000.000000</td>\n      <td>300000.000000</td>\n    </tr>\n    <tr>\n      <th>unique</th>\n      <td>NaN</td>\n      <td>2</td>\n      <td>2</td>\n      <td>2</td>\n      <td>4</td>\n      <td>4</td>\n      <td>4</td>\n      <td>8</td>\n      <td>8</td>\n      <td>7</td>\n      <td>...</td>\n      <td>NaN</td>\n      <td>NaN</td>\n      <td>NaN</td>\n      <td>NaN</td>\n      <td>NaN</td>\n      <td>NaN</td>\n      <td>NaN</td>\n      <td>NaN</td>\n      <td>NaN</td>\n      <td>NaN</td>\n    </tr>\n    <tr>\n      <th>top</th>\n      <td>NaN</td>\n      <td>A</td>\n      <td>A</td>\n      <td>A</td>\n      <td>C</td>\n      <td>B</td>\n      <td>B</td>\n      <td>A</td>\n      <td>E</td>\n      <td>C</td>\n      <td>...</td>\n      <td>NaN</td>\n      <td>NaN</td>\n      <td>NaN</td>\n      <td>NaN</td>\n      <td>NaN</td>\n      <td>NaN</td>\n      <td>NaN</td>\n      <td>NaN</td>\n      <td>NaN</td>\n      <td>NaN</td>\n    </tr>\n    <tr>\n      <th>freq</th>\n      <td>NaN</td>\n      <td>193130</td>\n      <td>154824</td>\n      <td>253886</td>\n      <td>263356</td>\n      <td>294737</td>\n      <td>149340</td>\n      <td>290511</td>\n      <td>276040</td>\n      <td>111103</td>\n      <td>...</td>\n      <td>NaN</td>\n      <td>NaN</td>\n      <td>NaN</td>\n      <td>NaN</td>\n      <td>NaN</td>\n      <td>NaN</td>\n      <td>NaN</td>\n      <td>NaN</td>\n      <td>NaN</td>\n      <td>NaN</td>\n    </tr>\n    <tr>\n      <th>mean</th>\n      <td>250018.576947</td>\n      <td>NaN</td>\n      <td>NaN</td>\n      <td>NaN</td>\n      <td>NaN</td>\n      <td>NaN</td>\n      <td>NaN</td>\n      <td>NaN</td>\n      <td>NaN</td>\n      <td>NaN</td>\n      <td>...</td>\n      <td>0.510526</td>\n      <td>0.467476</td>\n      <td>0.537119</td>\n      <td>0.498456</td>\n      <td>0.474872</td>\n      <td>0.474492</td>\n      <td>0.473216</td>\n      <td>0.494561</td>\n      <td>0.508273</td>\n      <td>8.241979</td>\n    </tr>\n    <tr>\n      <th>std</th>\n      <td>144450.150010</td>\n      <td>NaN</td>\n      <td>NaN</td>\n      <td>NaN</td>\n      <td>NaN</td>\n      <td>NaN</td>\n      <td>NaN</td>\n      <td>NaN</td>\n      <td>NaN</td>\n      <td>NaN</td>\n      <td>...</td>\n      <td>0.228232</td>\n      <td>0.210331</td>\n      <td>0.218140</td>\n      <td>0.239920</td>\n      <td>0.218007</td>\n      <td>0.255949</td>\n      <td>0.222022</td>\n      <td>0.247292</td>\n      <td>0.222950</td>\n      <td>0.746555</td>\n    </tr>\n    <tr>\n      <th>min</th>\n      <td>1.000000</td>\n      <td>NaN</td>\n      <td>NaN</td>\n      <td>NaN</td>\n      <td>NaN</td>\n      <td>NaN</td>\n      <td>NaN</td>\n      <td>NaN</td>\n      <td>NaN</td>\n      <td>NaN</td>\n      <td>...</td>\n      <td>0.045915</td>\n      <td>-0.224689</td>\n      <td>0.203763</td>\n      <td>-0.260275</td>\n      <td>0.117896</td>\n      <td>0.048732</td>\n      <td>0.052608</td>\n      <td>-0.074208</td>\n      <td>0.151050</td>\n      <td>0.140329</td>\n    </tr>\n    <tr>\n      <th>25%</th>\n      <td>124772.500000</td>\n      <td>NaN</td>\n      <td>NaN</td>\n      <td>NaN</td>\n      <td>NaN</td>\n      <td>NaN</td>\n      <td>NaN</td>\n      <td>NaN</td>\n      <td>NaN</td>\n      <td>NaN</td>\n      <td>...</td>\n      <td>0.354141</td>\n      <td>0.342873</td>\n      <td>0.355825</td>\n      <td>0.332486</td>\n      <td>0.306874</td>\n      <td>0.276017</td>\n      <td>0.308151</td>\n      <td>0.289074</td>\n      <td>0.300669</td>\n      <td>7.742071</td>\n    </tr>\n    <tr>\n      <th>50%</th>\n      <td>250002.500000</td>\n      <td>NaN</td>\n      <td>NaN</td>\n      <td>NaN</td>\n      <td>NaN</td>\n      <td>NaN</td>\n      <td>NaN</td>\n      <td>NaN</td>\n      <td>NaN</td>\n      <td>NaN</td>\n      <td>...</td>\n      <td>0.488865</td>\n      <td>0.429383</td>\n      <td>0.504661</td>\n      <td>0.439151</td>\n      <td>0.434620</td>\n      <td>0.459975</td>\n      <td>0.433812</td>\n      <td>0.422887</td>\n      <td>0.472400</td>\n      <td>8.191373</td>\n    </tr>\n    <tr>\n      <th>75%</th>\n      <td>375226.500000</td>\n      <td>NaN</td>\n      <td>NaN</td>\n      <td>NaN</td>\n      <td>NaN</td>\n      <td>NaN</td>\n      <td>NaN</td>\n      <td>NaN</td>\n      <td>NaN</td>\n      <td>NaN</td>\n      <td>...</td>\n      <td>0.669625</td>\n      <td>0.573383</td>\n      <td>0.703441</td>\n      <td>0.606056</td>\n      <td>0.614333</td>\n      <td>0.691579</td>\n      <td>0.642057</td>\n      <td>0.714502</td>\n      <td>0.758447</td>\n      <td>8.728634</td>\n    </tr>\n    <tr>\n      <th>max</th>\n      <td>499999.000000</td>\n      <td>NaN</td>\n      <td>NaN</td>\n      <td>NaN</td>\n      <td>NaN</td>\n      <td>NaN</td>\n      <td>NaN</td>\n      <td>NaN</td>\n      <td>NaN</td>\n      <td>NaN</td>\n      <td>...</td>\n      <td>1.067649</td>\n      <td>1.111552</td>\n      <td>1.032837</td>\n      <td>1.040229</td>\n      <td>0.982922</td>\n      <td>1.055960</td>\n      <td>1.071444</td>\n      <td>0.975035</td>\n      <td>0.905992</td>\n      <td>10.411992</td>\n    </tr>\n  </tbody>\n</table>\n<p>11 rows × 26 columns</p>\n</div>"
     },
     "execution_count": 6,
     "metadata": {},
     "output_type": "execute_result"
    }
   ],
   "metadata": {}
  },
  {
   "cell_type": "code",
   "source": [
    "#drop id column\n",
    "df_train.drop(labels='id', axis=1,inplace=True)"
   ],
   "execution_count": 7,
   "outputs": [],
   "metadata": {}
  },
  {
   "cell_type": "code",
   "source": [
    "df_train.isnull().sum()"
   ],
   "execution_count": 8,
   "outputs": [
    {
     "data": {
      "text/plain": "cat0      0\ncat1      0\ncat2      0\ncat3      0\ncat4      0\ncat5      0\ncat6      0\ncat7      0\ncat8      0\ncat9      0\ncont0     0\ncont1     0\ncont2     0\ncont3     0\ncont4     0\ncont5     0\ncont6     0\ncont7     0\ncont8     0\ncont9     0\ncont10    0\ncont11    0\ncont12    0\ncont13    0\ntarget    0\ndtype: int64"
     },
     "execution_count": 8,
     "metadata": {},
     "output_type": "execute_result"
    }
   ],
   "metadata": {}
  },
  {
   "cell_type": "code",
   "source": [
    "df_train.columns"
   ],
   "execution_count": 9,
   "outputs": [
    {
     "data": {
      "text/plain": "Index(['cat0', 'cat1', 'cat2', 'cat3', 'cat4', 'cat5', 'cat6', 'cat7', 'cat8',\n       'cat9', 'cont0', 'cont1', 'cont2', 'cont3', 'cont4', 'cont5', 'cont6',\n       'cont7', 'cont8', 'cont9', 'cont10', 'cont11', 'cont12', 'cont13',\n       'target'],\n      dtype='object')"
     },
     "execution_count": 9,
     "metadata": {},
     "output_type": "execute_result"
    }
   ],
   "metadata": {}
  },
  {
   "cell_type": "code",
   "source": [
    "X=df_train[['cat0', 'cat1', 'cat2', 'cat3', 'cat4', 'cat5', 'cat6', 'cat7', 'cat8',\n",
    "       'cat9', 'cont0', 'cont1', 'cont2', 'cont3', 'cont4', 'cont5', 'cont6',\n",
    "       'cont7', 'cont8', 'cont9', 'cont10', 'cont11', 'cont12', 'cont13']]\n",
    "y=df_train['target']\n",
    "\n",
    "categorical = ['cat0', 'cat1', 'cat2', 'cat3', 'cat4', 'cat5', 'cat6', 'cat7', 'cat8',\n",
    "       'cat9']\n",
    "numerical = ['cont0', 'cont1', 'cont2', 'cont3', 'cont4', 'cont5', 'cont6',\n",
    "       'cont7', 'cont8', 'cont9', 'cont10', 'cont11', 'cont12', 'cont13']"
   ],
   "execution_count": 10,
   "outputs": [],
   "metadata": {}
  },
  {
   "cell_type": "code",
   "execution_count": 11,
   "outputs": [
    {
     "name": "stdout",
     "output_type": "stream",
     "text": [
      "The Pearson Correlation Coefficient is 0.028819466302068338  with a P-value of P =   3.746268211924479e-56\n",
      "The Pearson Correlation Coefficient is -0.0020962798233701186  with a P-value of P =   0.2508958227881352\n",
      "The Pearson Correlation Coefficient is 0.03427984581312777  with a P-value of P =   1.0744598630869462e-78\n",
      "The Pearson Correlation Coefficient is -0.022758939920403027  with a P-value of P =   1.1279178209358132e-35\n",
      "The Pearson Correlation Coefficient is -0.02313162183136024  with a P-value of P =   8.52308810990588e-37\n",
      "The Pearson Correlation Coefficient is -0.01505810299723952  with a P-value of P =   1.6093818838755003e-16\n",
      "The Pearson Correlation Coefficient is -0.013806914159281536  with a P-value of P =   3.948260913505855e-14\n",
      "The Pearson Correlation Coefficient is 0.035143324565832024  with a P-value of P =   1.2902208080547503e-82\n",
      "The Pearson Correlation Coefficient is 0.017739982391344035  with a P-value of P =   2.5440711616047874e-22\n",
      "The Pearson Correlation Coefficient is -0.015726037763723284  with a P-value of P =   7.055324538935613e-18\n",
      "The Pearson Correlation Coefficient is 0.0524675435241742  with a P-value of P =   7.331409561715819e-182\n",
      "The Pearson Correlation Coefficient is 0.03337843211414183  with a P-value of P =   1.0477124786034383e-74\n",
      "The Pearson Correlation Coefficient is 0.055828978203137175  with a P-value of P =   1.132638914618597e-205\n",
      "The Pearson Correlation Coefficient is -0.02818947831265946  with a P-value of P =   8.407316869905444e-54\n"
     ]
    }
   ],
   "source": [
    "from scipy import stats\n",
    "for n in numerical:\n",
    "    pearson_coef, p_value = stats.pearsonr(df_train[n], df_train['target'])\n",
    "    print(\"The Pearson Correlation Coefficient is\", pearson_coef, \" with a P-value of P =  \", p_value )"
   ],
   "metadata": {
    "collapsed": false,
    "pycharm": {
     "name": "#%%\n"
    }
   }
  },
  {
   "cell_type": "code",
   "source": [
    "from sklearn.model_selection import train_test_split\n",
    "X_train, X_test, y_train, y_test=train_test_split(X, y, random_state=1234, test_size=0.3)"
   ],
   "execution_count": 12,
   "outputs": [],
   "metadata": {}
  },
  {
   "cell_type": "code",
   "source": [
    "# from sklearn.preprocessing import OneHotEncoder\n",
    "# # Apply one-hot encoder to each column with categorical data\n",
    "# OH_encoder = OneHotEncoder(handle_unknown='ignore', sparse=False)\n",
    "# OH_cols_train = pd.DataFrame(OH_encoder.fit_transform(X_train[categorical]))\n",
    "# OH_cols_test = pd.DataFrame(OH_encoder.transform(X_test[categorical]))\n",
    "\n",
    "# # One-hot encoding removed index; put it back\n",
    "# OH_cols_train.index = X_train.index\n",
    "# OH_cols_test.index = X_test.index\n",
    "\n",
    "# # Remove categorical columns (will replace with one-hot encoding)\n",
    "# num_X_train = X_train.drop(categorical, axis=1)\n",
    "# num_X_test = X_test.drop(categorical, axis=1)\n",
    "\n",
    "# # Add one-hot encoded columns to numerical features\n",
    "# OH_X_train = pd.concat([num_X_train, OH_cols_train], axis=1)\n",
    "# OH_X_test = pd.concat([num_X_test, OH_cols_test], axis=1)"
   ],
   "execution_count": 13,
   "outputs": [],
   "metadata": {}
  },
  {
   "cell_type": "code",
   "source": [
    "from xgboost import XGBRegressor\n",
    "from sklearn.compose import ColumnTransformer\n",
    "from sklearn.pipeline import Pipeline\n",
    "from sklearn.impute import SimpleImputer\n",
    "from sklearn.preprocessing import OneHotEncoder\n",
    "from sklearn.ensemble import RandomForestRegressor\n",
    "from sklearn.metrics import mean_squared_error\n",
    "\n",
    "\n",
    "# Preprocessing for numerical data\n",
    "numerical_transformer = SimpleImputer(strategy='constant')\n",
    "\n",
    "# Preprocessing for categorical data\n",
    "categorical_transformer = Pipeline(steps=[\n",
    "    ('imputer', SimpleImputer(strategy='most_frequent')),\n",
    "    ('onehot', OneHotEncoder(handle_unknown='ignore'))\n",
    "])\n",
    "\n",
    "# Bundle preprocessing for numerical and categorical data\n",
    "preprocessor = ColumnTransformer(\n",
    "    transformers=[\n",
    "        ('num', numerical_transformer, numerical),\n",
    "        ('cat', categorical_transformer, categorical)\n",
    "    ])\n",
    "\n",
    "# Define model\n",
    "model = XGBRegressor(n_estimators=1000, learning_rate=0.05, random_state=0)\n",
    "\n",
    "# Bundle preprocessing and modeling code in a pipeline\n",
    "clf = Pipeline(steps=[('preprocessor', preprocessor),\n",
    "                      ('model', model)\n",
    "                     ])\n",
    "\n",
    "# Preprocessing of training data, fit model \n",
    "clf.fit(X_train, y_train)\n",
    "\n",
    "# Preprocessing of validation data, get predictions\n",
    "preds = clf.predict(X_test)\n",
    "\n",
    "print('MAE:', mean_squared_error(y_test, preds, squared=False))"
   ],
   "execution_count": 14,
   "outputs": [
    {
     "ename": "ModuleNotFoundError",
     "evalue": "No module named 'xgboost'",
     "output_type": "error",
     "traceback": [
      "\u001B[1;31m---------------------------------------------------------------------------\u001B[0m",
      "\u001B[1;31mModuleNotFoundError\u001B[0m                       Traceback (most recent call last)",
      "\u001B[1;32m<ipython-input-14-322a0d2e2b17>\u001B[0m in \u001B[0;36m<module>\u001B[1;34m\u001B[0m\n\u001B[1;32m----> 1\u001B[1;33m \u001B[1;32mfrom\u001B[0m \u001B[0mxgboost\u001B[0m \u001B[1;32mimport\u001B[0m \u001B[0mXGBRegressor\u001B[0m\u001B[1;33m\u001B[0m\u001B[1;33m\u001B[0m\u001B[0m\n\u001B[0m\u001B[0;32m      2\u001B[0m \u001B[1;32mfrom\u001B[0m \u001B[0msklearn\u001B[0m\u001B[1;33m.\u001B[0m\u001B[0mcompose\u001B[0m \u001B[1;32mimport\u001B[0m \u001B[0mColumnTransformer\u001B[0m\u001B[1;33m\u001B[0m\u001B[1;33m\u001B[0m\u001B[0m\n\u001B[0;32m      3\u001B[0m \u001B[1;32mfrom\u001B[0m \u001B[0msklearn\u001B[0m\u001B[1;33m.\u001B[0m\u001B[0mpipeline\u001B[0m \u001B[1;32mimport\u001B[0m \u001B[0mPipeline\u001B[0m\u001B[1;33m\u001B[0m\u001B[1;33m\u001B[0m\u001B[0m\n\u001B[0;32m      4\u001B[0m \u001B[1;32mfrom\u001B[0m \u001B[0msklearn\u001B[0m\u001B[1;33m.\u001B[0m\u001B[0mimpute\u001B[0m \u001B[1;32mimport\u001B[0m \u001B[0mSimpleImputer\u001B[0m\u001B[1;33m\u001B[0m\u001B[1;33m\u001B[0m\u001B[0m\n\u001B[0;32m      5\u001B[0m \u001B[1;32mfrom\u001B[0m \u001B[0msklearn\u001B[0m\u001B[1;33m.\u001B[0m\u001B[0mpreprocessing\u001B[0m \u001B[1;32mimport\u001B[0m \u001B[0mOneHotEncoder\u001B[0m\u001B[1;33m\u001B[0m\u001B[1;33m\u001B[0m\u001B[0m\n",
      "\u001B[1;31mModuleNotFoundError\u001B[0m: No module named 'xgboost'"
     ]
    }
   ],
   "metadata": {}
  },
  {
   "cell_type": "code",
   "source": [
    "path = 'test.csv'\n",
    "df_test = pd.read_csv(path)"
   ],
   "execution_count": null,
   "outputs": [],
   "metadata": {}
  },
  {
   "cell_type": "code",
   "execution_count": null,
   "outputs": [],
   "source": [
    "X=df_test[['cat0', 'cat2', 'cat3', 'cat4', 'cat5', 'cat6', 'cat7', 'cat8',\n",
    "       'cat9', 'cont0', 'cont1', 'cont2', 'cont3', 'cont4', 'cont5', 'cont6',\n",
    "       'cont7', 'cont8', 'cont9', 'cont10', 'cont11', 'cont12', 'cont13']]\n",
    "\n",
    "categorical = ['cat0', 'cat1', 'cat2', 'cat3', 'cat4', 'cat5', 'cat6', 'cat7', 'cat8',\n",
    "       'cat9']\n",
    "numerical = ['cont0', 'cont1', 'cont2', 'cont3', 'cont4', 'cont5', 'cont6',\n",
    "       'cont7', 'cont8', 'cont9', 'cont10', 'cont11', 'cont12', 'cont13']\n"
   ],
   "metadata": {
    "collapsed": false,
    "pycharm": {
     "name": "#%%\n"
    }
   }
  },
  {
   "cell_type": "code",
   "execution_count": null,
   "outputs": [],
   "source": [
    "# Preprocessing of validation data, get predictions\n",
    "preds = clf.predict(X)"
   ],
   "metadata": {
    "collapsed": false,
    "pycharm": {
     "name": "#%%\n"
    }
   }
  },
  {
   "cell_type": "code",
   "execution_count": null,
   "outputs": [],
   "source": [
    "output = pd.DataFrame({'id': df_test.id,\n",
    "                       'target': preds})\n",
    "output.to_csv('submission4.csv', index=False)"
   ],
   "metadata": {
    "collapsed": false,
    "pycharm": {
     "name": "#%%\n"
    }
   }
  },
  {
   "cell_type": "code",
   "execution_count": null,
   "outputs": [],
   "source": [],
   "metadata": {
    "collapsed": false,
    "pycharm": {
     "name": "#%%\n"
    }
   }
  },
  {
   "cell_type": "markdown",
   "source": [
    "RandomForest = 0.73747\n"
   ],
   "metadata": {
    "collapsed": false
   }
  }
 ],
 "metadata": {
  "kernelspec": {
   "name": "pycharm-aa05e1a7",
   "language": "python",
   "display_name": "PyCharm (DataspellProjects)"
  }
 },
 "nbformat": 4,
 "nbformat_minor": 0
}