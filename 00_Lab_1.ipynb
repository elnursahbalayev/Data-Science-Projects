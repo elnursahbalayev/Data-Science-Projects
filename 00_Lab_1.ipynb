{
  "nbformat": 4,
  "nbformat_minor": 0,
  "metadata": {
    "colab": {
      "name": "00_Lab_1.ipynb",
      "provenance": [],
      "authorship_tag": "ABX9TyP35F8N5yNBeQihAf1OxXuW",
      "include_colab_link": true
    },
    "kernelspec": {
      "name": "python3",
      "display_name": "Python 3"
    },
    "language_info": {
      "name": "python"
    }
  },
  "cells": [
    {
      "cell_type": "markdown",
      "metadata": {
        "id": "view-in-github",
        "colab_type": "text"
      },
      "source": [
        "<a href=\"https://colab.research.google.com/github/elnursahbalayev/Data-Science-Projects/blob/main/00_Lab_1.ipynb\" target=\"_parent\"><img src=\"https://colab.research.google.com/assets/colab-badge.svg\" alt=\"Open In Colab\"/></a>"
      ]
    },
    {
      "cell_type": "code",
      "execution_count": 1,
      "metadata": {
        "colab": {
          "base_uri": "https://localhost:8080/"
        },
        "id": "loRo0345oE0x",
        "outputId": "7d1eea9f-fe49-477d-8810-49497ca1c863"
      },
      "outputs": [
        {
          "output_type": "stream",
          "name": "stdout",
          "text": [
            "Hello World\n"
          ]
        }
      ],
      "source": [
        "print(\"Hello World\")\n"
      ]
    },
    {
      "cell_type": "code",
      "source": [
        "num1 = input('Enter first number: ') \n",
        "num2 = input('Enter second number: ') \n"
      ],
      "metadata": {
        "colab": {
          "base_uri": "https://localhost:8080/"
        },
        "id": "BJyWbYTno6e1",
        "outputId": "891cd4ca-2b1c-438c-8ab7-cc54fbd2a870"
      },
      "execution_count": 2,
      "outputs": [
        {
          "name": "stdout",
          "output_type": "stream",
          "text": [
            "Enter first number: 2\n",
            "Enter second number: 3\n"
          ]
        }
      ]
    },
    {
      "cell_type": "code",
      "source": [
        "# Add two numbers\n",
        "sum = float(num1) + float(num2)\n",
        "print('The sum of {0} and {1} is {2}'.format(num1, num2, sum))"
      ],
      "metadata": {
        "colab": {
          "base_uri": "https://localhost:8080/"
        },
        "id": "j0zXymNfo8WL",
        "outputId": "daaac0c7-2b87-4900-a1b8-3424b1c946ec"
      },
      "execution_count": 3,
      "outputs": [
        {
          "output_type": "stream",
          "name": "stdout",
          "text": [
            "The sum of 2 and 3 is 5.0\n"
          ]
        }
      ]
    },
    {
      "cell_type": "code",
      "source": [
        "# Multiply two numbers\n",
        "prod = float(num1) * float(num2) \n"
      ],
      "metadata": {
        "id": "pBYBaRAnpA5Z"
      },
      "execution_count": 4,
      "outputs": []
    },
    {
      "cell_type": "code",
      "source": [
        "print('The product of {0} and {1} is {2}'.format(num1, num2, prod))\n"
      ],
      "metadata": {
        "colab": {
          "base_uri": "https://localhost:8080/"
        },
        "id": "zTEZCMfGpCvE",
        "outputId": "b58067e9-d78a-415e-85c2-3d3e2b646578"
      },
      "execution_count": 5,
      "outputs": [
        {
          "output_type": "stream",
          "name": "stdout",
          "text": [
            "The product of 2 and 3 is 6.0\n"
          ]
        }
      ]
    },
    {
      "cell_type": "code",
      "source": [
        "#define a function that takes 2 nunbers as input and their product as output \n",
        "def multiply(x,y):   \n",
        "  return x*y\n"
      ],
      "metadata": {
        "id": "ci5VJL3hpElD"
      },
      "execution_count": 6,
      "outputs": []
    },
    {
      "cell_type": "code",
      "source": [
        "#call the function for 5 and 3\n",
        "multiply(5,3)"
      ],
      "metadata": {
        "colab": {
          "base_uri": "https://localhost:8080/"
        },
        "id": "IDYvupqlpGLF",
        "outputId": "467bbc8c-0e3f-4afa-a581-e49ecea9729d"
      },
      "execution_count": 7,
      "outputs": [
        {
          "output_type": "execute_result",
          "data": {
            "text/plain": [
              "15"
            ]
          },
          "metadata": {},
          "execution_count": 7
        }
      ]
    },
    {
      "cell_type": "code",
      "source": [
        "num = input('Enter first number: ') \n",
        "x=float(num)\n",
        "if x > 0:    print(x, \"is a positive number.\")\n",
        "\n",
        "elif x < 0:    print(x, \"is a negative number.\")\n",
        "\n",
        "else:  print(\"you entered zero.\") "
      ],
      "metadata": {
        "colab": {
          "base_uri": "https://localhost:8080/"
        },
        "id": "Gs5y2jkqpHP5",
        "outputId": "0cbbc70e-4df8-4910-fef1-239e2cc4aa33"
      },
      "execution_count": 8,
      "outputs": [
        {
          "output_type": "stream",
          "name": "stdout",
          "text": [
            "Enter first number: 3.4\n",
            "3.4 is a positive number.\n"
          ]
        }
      ]
    },
    {
      "cell_type": "code",
      "source": [
        "for x in range (7):    print (x)"
      ],
      "metadata": {
        "colab": {
          "base_uri": "https://localhost:8080/"
        },
        "id": "Wf6RWOEjpIl0",
        "outputId": "644f6b61-86d4-44ed-ebb2-41fc0d016991"
      },
      "execution_count": 9,
      "outputs": [
        {
          "output_type": "stream",
          "name": "stdout",
          "text": [
            "0\n",
            "1\n",
            "2\n",
            "3\n",
            "4\n",
            "5\n",
            "6\n"
          ]
        }
      ]
    },
    {
      "cell_type": "code",
      "source": [
        "#while loop\n",
        "i = 1\n",
        "while i < 7:\n",
        "  print(i)\n",
        "  i += 1\n"
      ],
      "metadata": {
        "colab": {
          "base_uri": "https://localhost:8080/"
        },
        "id": "7crEkm0jpL7v",
        "outputId": "7c655806-e95a-49a0-b30b-309ed0768d19"
      },
      "execution_count": 10,
      "outputs": [
        {
          "output_type": "stream",
          "name": "stdout",
          "text": [
            "1\n",
            "2\n",
            "3\n",
            "4\n",
            "5\n",
            "6\n"
          ]
        }
      ]
    },
    {
      "cell_type": "code",
      "source": [
        "#while if loop\n",
        "i = 1\n",
        "while i < 7:\n",
        "  print(i)\n",
        "  if i == 3:\n",
        "    break\n",
        "  i += 1\n"
      ],
      "metadata": {
        "colab": {
          "base_uri": "https://localhost:8080/"
        },
        "id": "r74epM0-pOAK",
        "outputId": "150eed30-13da-4619-a812-1a8d649b3abb"
      },
      "execution_count": 11,
      "outputs": [
        {
          "output_type": "stream",
          "name": "stdout",
          "text": [
            "1\n",
            "2\n",
            "3\n"
          ]
        }
      ]
    },
    {
      "cell_type": "code",
      "source": [
        "#import NumPy\n",
        "import numpy as np\n",
        "a = np.array([1,2,3,4,5])\n",
        "print('a:',a)\n"
      ],
      "metadata": {
        "colab": {
          "base_uri": "https://localhost:8080/"
        },
        "id": "ZBibrmwXpPbI",
        "outputId": "e33645fc-1996-44a7-c705-eb5530f22e3c"
      },
      "execution_count": 12,
      "outputs": [
        {
          "output_type": "stream",
          "name": "stdout",
          "text": [
            "a: [1 2 3 4 5]\n"
          ]
        }
      ]
    },
    {
      "cell_type": "code",
      "source": [
        "#Know the type of an array\n",
        "print('type of a:',type(a))\n"
      ],
      "metadata": {
        "colab": {
          "base_uri": "https://localhost:8080/"
        },
        "id": "bQyxsPdQpRVI",
        "outputId": "c59c1c9a-fe10-4fae-bd32-e4d1fdcfe5ac"
      },
      "execution_count": 13,
      "outputs": [
        {
          "output_type": "stream",
          "name": "stdout",
          "text": [
            "type of a: <class 'numpy.ndarray'>\n"
          ]
        }
      ]
    },
    {
      "cell_type": "code",
      "source": [
        "print('a = ',a)\n",
        "a[0] = 10\n",
        "print('a = ',a)\n",
        "a[2] = 13.6\n",
        "print('a =', a)\n"
      ],
      "metadata": {
        "colab": {
          "base_uri": "https://localhost:8080/"
        },
        "id": "8p7D-A24pS8J",
        "outputId": "6ad8bcaf-05a9-4cfb-e700-6d15f2f2a967"
      },
      "execution_count": 14,
      "outputs": [
        {
          "output_type": "stream",
          "name": "stdout",
          "text": [
            "a =  [1 2 3 4 5]\n",
            "a =  [10  2  3  4  5]\n",
            "a = [10  2 13  4  5]\n"
          ]
        }
      ]
    },
    {
      "cell_type": "code",
      "source": [
        "# to get the shape of an array\n",
        "print(\"the shape of a is\") \n",
        "a.shape"
      ],
      "metadata": {
        "colab": {
          "base_uri": "https://localhost:8080/"
        },
        "id": "614T7EnMpUV8",
        "outputId": "8e8fe154-cb32-4880-a0ea-f96c9aea1427"
      },
      "execution_count": 15,
      "outputs": [
        {
          "output_type": "stream",
          "name": "stdout",
          "text": [
            "the shape of a is\n"
          ]
        },
        {
          "output_type": "execute_result",
          "data": {
            "text/plain": [
              "(5,)"
            ]
          },
          "metadata": {},
          "execution_count": 15
        }
      ]
    },
    {
      "cell_type": "code",
      "source": [
        "b=5\n",
        "add = a + b\n",
        "multip = a * b\n",
        "divis = a / b\n",
        "pwr = b**a\n",
        "\n",
        "print('a:', a)\n",
        "print('b:',b)\n",
        "print('add:', add)\n",
        "print('multiply:', multip)\n",
        "print ('division:',divis)\n",
        "print ('power:',pwr)"
      ],
      "metadata": {
        "colab": {
          "base_uri": "https://localhost:8080/"
        },
        "id": "PGPty6JzpbtG",
        "outputId": "4dc533aa-d6e5-4a94-bc26-02df1703f5f2"
      },
      "execution_count": 16,
      "outputs": [
        {
          "output_type": "stream",
          "name": "stdout",
          "text": [
            "a: [10  2 13  4  5]\n",
            "b: 5\n",
            "add: [15  7 18  9 10]\n",
            "multiply: [50 10 65 20 25]\n",
            "division: [2.  0.4 2.6 0.8 1. ]\n",
            "power: [   9765625         25 1220703125        625       3125]\n"
          ]
        }
      ]
    },
    {
      "cell_type": "code",
      "source": [
        "# Multi-Dimensional Array\n",
        "d = np.array([[0, 1, 3, 5, 7], [10, 11, 12, 13, 14], [20, 22, 24, 25, 27]])\n",
        "print(d)\n",
        "print('shape:',d.shape)\n",
        "print('size:',d.size)\n"
      ],
      "metadata": {
        "colab": {
          "base_uri": "https://localhost:8080/"
        },
        "id": "hUsfs221pdk1",
        "outputId": "4dc5dff3-6f76-4df9-c693-bcbb07dc147c"
      },
      "execution_count": 17,
      "outputs": [
        {
          "output_type": "stream",
          "name": "stdout",
          "text": [
            "[[ 0  1  3  5  7]\n",
            " [10 11 12 13 14]\n",
            " [20 22 24 25 27]]\n",
            "shape: (3, 5)\n",
            "size: 15\n"
          ]
        }
      ]
    },
    {
      "cell_type": "code",
      "source": [
        "# var[lower:upper:step] @ [lower:upper:step]\n",
        "a = np.array([1,5,7,9,12])\n",
        "print('a = ',a)\n"
      ],
      "metadata": {
        "colab": {
          "base_uri": "https://localhost:8080/"
        },
        "id": "PCSu44N3phuN",
        "outputId": "119f2e96-76e8-4630-db2f-88e8209fe7c1"
      },
      "execution_count": 18,
      "outputs": [
        {
          "output_type": "stream",
          "name": "stdout",
          "text": [
            "a =  [ 1  5  7  9 12]\n"
          ]
        }
      ]
    },
    {
      "cell_type": "code",
      "source": [
        "#a[1:3] gives the values at indices 1 to 3 (excluded)\n",
        "print('a[1:3] =',a[1:3])\n"
      ],
      "metadata": {
        "colab": {
          "base_uri": "https://localhost:8080/"
        },
        "id": "cGsSQYX7pjbc",
        "outputId": "d3be5bf3-8ae0-44b4-e458-98aca3c42b96"
      },
      "execution_count": 19,
      "outputs": [
        {
          "output_type": "stream",
          "name": "stdout",
          "text": [
            "a[1:3] = [5 7]\n"
          ]
        }
      ]
    },
    {
      "cell_type": "code",
      "source": [
        "#a[1:4] gives the values at indices 1 to 3 (excluded)\n",
        "print('a[1:4] =',a[1:4])"
      ],
      "metadata": {
        "colab": {
          "base_uri": "https://localhost:8080/"
        },
        "id": "yMk3vMeyplSD",
        "outputId": "22a78971-fc91-4a95-f8cb-392a1e86641c"
      },
      "execution_count": 20,
      "outputs": [
        {
          "output_type": "stream",
          "name": "stdout",
          "text": [
            "a[1:4] = [5 7 9]\n"
          ]
        }
      ]
    },
    {
      "cell_type": "code",
      "source": [
        "a = np.array([1,2,3,4,5])"
      ],
      "metadata": {
        "id": "KmlXGpCtpz19"
      },
      "execution_count": 21,
      "outputs": []
    },
    {
      "cell_type": "code",
      "source": [
        "# new array object but not new number (memory buffer shared!)\n",
        "b = a[:2]    \n"
      ],
      "metadata": {
        "id": "wktskickp1P-"
      },
      "execution_count": 22,
      "outputs": []
    },
    {
      "cell_type": "code",
      "source": [
        "print('a:',a)\n",
        "print('b:',b)\n",
        "b[0] = -5\n",
        "print('b:',b)\n"
      ],
      "metadata": {
        "colab": {
          "base_uri": "https://localhost:8080/"
        },
        "id": "lrIUpHP7p2Yu",
        "outputId": "69ce4647-5720-43a7-b0b5-26cdb0a8a274"
      },
      "execution_count": 23,
      "outputs": [
        {
          "output_type": "stream",
          "name": "stdout",
          "text": [
            "a: [1 2 3 4 5]\n",
            "b: [1 2]\n",
            "b: [-5  2]\n"
          ]
        }
      ]
    },
    {
      "cell_type": "code",
      "source": [
        "# create an array with numbers from 0 to 50 (excluded) with a gap of 5\n",
        "a = np.arange(0,50,5)\n"
      ],
      "metadata": {
        "id": "N8HhxMGkp3Xa"
      },
      "execution_count": 24,
      "outputs": []
    },
    {
      "cell_type": "code",
      "source": [
        "# create an array of indices\n",
        "idx = [1,2,-4]\n"
      ],
      "metadata": {
        "id": "cYXtZ_e6p4dn"
      },
      "execution_count": 25,
      "outputs": []
    },
    {
      "cell_type": "code",
      "source": [
        "# extract an array corresponding to the given indices\n",
        "y = a[idx]\n",
        "print('a:',a)\n",
        "print('y:',y)\n"
      ],
      "metadata": {
        "colab": {
          "base_uri": "https://localhost:8080/"
        },
        "id": "PUySuEwtp5oY",
        "outputId": "61bbbf72-85e8-4880-f652-5bafa1b7afc3"
      },
      "execution_count": 26,
      "outputs": [
        {
          "output_type": "stream",
          "name": "stdout",
          "text": [
            "a: [ 0  5 10 15 20 25 30 35 40 45]\n",
            "y: [ 5 10 30]\n"
          ]
        }
      ]
    },
    {
      "cell_type": "code",
      "source": [
        "# indexing with BOOLEANS\n",
        "mask = np.array([0,1,1,0,0,1,1,1,0,0], dtype= bool)\n",
        "y = a[mask]\n",
        "print('a:',a)\n",
        "print('y:',y)\n"
      ],
      "metadata": {
        "colab": {
          "base_uri": "https://localhost:8080/"
        },
        "id": "9u8jhcyKp61t",
        "outputId": "f9daa526-c5f4-488f-c7af-2796313442b2"
      },
      "execution_count": 27,
      "outputs": [
        {
          "output_type": "stream",
          "name": "stdout",
          "text": [
            "a: [ 0  5 10 15 20 25 30 35 40 45]\n",
            "y: [ 5 10 25 30 35]\n"
          ]
        }
      ]
    },
    {
      "cell_type": "code",
      "source": [
        ""
      ],
      "metadata": {
        "id": "bR4ENU3op8uL"
      },
      "execution_count": 27,
      "outputs": []
    }
  ]
}